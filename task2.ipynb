{
 "cells": [
  {
   "cell_type": "code",
   "execution_count": 3,
   "id": "4de08fb7-df85-411b-b3a6-12896125ffa4",
   "metadata": {},
   "outputs": [
    {
     "name": "stdin",
     "output_type": "stream",
     "text": [
      "Enter some text to write to the file:  hello everyone\n",
      "Enter additional text to append:  i am python learner\n"
     ]
    },
    {
     "name": "stdout",
     "output_type": "stream",
     "text": [
      "\n",
      "Final content of 'output.txt':\n",
      "hello everyone\n",
      "i am python learner\n"
     ]
    }
   ],
   "source": [
    "# Step 1: Take user input and write it to a file\n",
    "user_input = input(\"Enter some text to write to the file: \")\n",
    "\n",
    "with open(\"output.txt\", \"w\") as file:\n",
    "    file.write(user_input + \"\\n\")\n",
    "\n",
    "# Step 2: Append additional data to the same file\n",
    "additional_input = input(\"Enter additional text to append: \")\n",
    "\n",
    "with open(\"output.txt\", \"a\") as file:\n",
    "    file.write(additional_input + \"\\n\")\n",
    "\n",
    "# Step 3: Read and display the final content of the file\n",
    "print(\"\\nFinal content of 'output.txt':\")\n",
    "with open(\"output.txt\", \"r\") as file:\n",
    "    for line_number, line in enumerate(file, start=1):\n",
    "        print(f\"{line.strip()}\")\n"
   ]
  },
  {
   "cell_type": "code",
   "execution_count": null,
   "id": "a3f6f88d-4d3d-4db0-a65e-c8e7ce077b62",
   "metadata": {},
   "outputs": [],
   "source": []
  }
 ],
 "metadata": {
  "kernelspec": {
   "display_name": "Python [conda env:base] *",
   "language": "python",
   "name": "conda-base-py"
  },
  "language_info": {
   "codemirror_mode": {
    "name": "ipython",
    "version": 3
   },
   "file_extension": ".py",
   "mimetype": "text/x-python",
   "name": "python",
   "nbconvert_exporter": "python",
   "pygments_lexer": "ipython3",
   "version": "3.12.7"
  }
 },
 "nbformat": 4,
 "nbformat_minor": 5
}
