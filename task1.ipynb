{
 "cells": [
  {
   "cell_type": "code",
   "execution_count": 1,
   "id": "def9c343-9cc4-488c-a284-a82551e5f603",
   "metadata": {},
   "outputs": [
    {
     "name": "stdout",
     "output_type": "stream",
     "text": [
      "Error: The file 'sample.txt' does not exist.\n"
     ]
    }
   ],
   "source": [
    "# Task: Read a File and Handle Errors\n",
    "\n",
    "try:\n",
    "    with open(\"sample.txt\", \"r\") as file:\n",
    "        print(\"Reading file content:\")\n",
    "        line_number = 1\n",
    "        for line in file:\n",
    "            print(f\"Line {line_number}: {line.strip()}\")\n",
    "            line_number += 1\n",
    "\n",
    "except FileNotFoundError:\n",
    "    print(\"Error: The file 'sample.txt' does not exist.\")\n"
   ]
  },
  {
   "cell_type": "code",
   "execution_count": null,
   "id": "4a0d868f-6581-4815-ad9e-0ace24b29724",
   "metadata": {},
   "outputs": [],
   "source": []
  }
 ],
 "metadata": {
  "kernelspec": {
   "display_name": "Python [conda env:base] *",
   "language": "python",
   "name": "conda-base-py"
  },
  "language_info": {
   "codemirror_mode": {
    "name": "ipython",
    "version": 3
   },
   "file_extension": ".py",
   "mimetype": "text/x-python",
   "name": "python",
   "nbconvert_exporter": "python",
   "pygments_lexer": "ipython3",
   "version": "3.12.7"
  }
 },
 "nbformat": 4,
 "nbformat_minor": 5
}
